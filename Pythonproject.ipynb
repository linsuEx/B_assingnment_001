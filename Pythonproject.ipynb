{
  "nbformat": 4,
  "nbformat_minor": 0,
  "metadata": {
    "colab": {
      "provenance": [],
      "authorship_tag": "ABX9TyNZpd+7PPXPKmCXyPub9VjP",
      "include_colab_link": true
    },
    "kernelspec": {
      "name": "python3",
      "display_name": "Python 3"
    },
    "language_info": {
      "name": "python"
    }
  },
  "cells": [
    {
      "cell_type": "markdown",
      "metadata": {
        "id": "view-in-github",
        "colab_type": "text"
      },
      "source": [
        "<a href=\"https://colab.research.google.com/github/linsuEx/B_assingnment_001/blob/main/Pythonproject.ipynb\" target=\"_parent\"><img src=\"https://colab.research.google.com/assets/colab-badge.svg\" alt=\"Open In Colab\"/></a>"
      ]
    },
    {
      "cell_type": "code",
      "execution_count": null,
      "metadata": {
        "colab": {
          "base_uri": "https://localhost:8080/"
        },
        "id": "zzok1lz5uj9v",
        "outputId": "6c69fad2-81ce-4873-8a0e-7ee510c9156a"
      },
      "outputs": [
        {
          "output_type": "stream",
          "name": "stdout",
          "text": [
            "hi welcome\n"
          ]
        }
      ],
      "source": [
        "print(\"hi welcome\")\n"
      ]
    },
    {
      "cell_type": "code",
      "source": [
        "print(\"1--bag\\n2--purse\\n3--pen\\n4--book\\n5--pencil\")"
      ],
      "metadata": {
        "colab": {
          "base_uri": "https://localhost:8080/"
        },
        "id": "J712nHhPvP_S",
        "outputId": "42a8017e-0e97-4282-87be-c0c743784459"
      },
      "execution_count": null,
      "outputs": [
        {
          "output_type": "stream",
          "name": "stdout",
          "text": [
            "1--bag\n",
            "2--purse\n",
            "3--pen\n",
            "4--book\n",
            "5--pencil\n"
          ]
        }
      ]
    },
    {
      "cell_type": "code",
      "source": [
        "total_price = 0 # Intialize total price to 0"
      ],
      "metadata": {
        "id": "ZzvSF9iQ18tC"
      },
      "execution_count": null,
      "outputs": []
    },
    {
      "cell_type": "code",
      "source": [
        "while True:\n",
        "     item = int(input(\"Enter the item number (0 to finish):\"))\n",
        "     if item == 0:\n",
        "         break\n",
        "     number_of_item =int(input(\"How many of this item:\"))\n",
        "     if item == 1:\n",
        "        bag_price = number_of_item * 1500\n",
        "        print(\"Bag Price=\", bag_price)\n",
        "        total_price += bag_price\n",
        "     elif item == 2:\n",
        "        purse_price = number_of_item * 600\n",
        "        print(\"purse price =\", purse_price)\n",
        "        total_price += purse_price\n",
        "     elif item == 3:\n",
        "        pen_price = number_of_item * 240\n",
        "        print(\"pen price =\",pen_price)\n",
        "        total_price +=pen_price\n",
        "     elif item == 4:\n",
        "        book_price = number_of_item * 90\n",
        "        print(\"Book price=\",book_price)\n",
        "        total_price += book_price\n",
        "     elif item == 5:\n",
        "        pencil_price = number_of_item * 14\n",
        "        print(\"pencil price =\",pencil_price)\n",
        "        total_price += pencil_price\n",
        "     else:\n",
        "        print(\"item not available\")\n",
        "\n",
        "print(\"Total price for all items:\", total_price)\n",
        "\n"
      ],
      "metadata": {
        "colab": {
          "base_uri": "https://localhost:8080/"
        },
        "id": "ql-WpG3k2Kxc",
        "outputId": "44ddf455-291f-4711-c85f-527c3e9ec665"
      },
      "execution_count": null,
      "outputs": [
        {
          "output_type": "stream",
          "name": "stdout",
          "text": [
            "Enter the item number (0 to finish):3\n",
            "How many of this item:3\n",
            "pen price = 720\n"
          ]
        }
      ]
    },
    {
      "cell_type": "code",
      "source": [],
      "metadata": {
        "id": "_at_LcgI3G6R"
      },
      "execution_count": null,
      "outputs": []
    }
  ]
}